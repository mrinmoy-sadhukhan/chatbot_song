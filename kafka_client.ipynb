{
 "cells": [
  {
   "cell_type": "code",
   "execution_count": null,
   "metadata": {},
   "outputs": [],
   "source": [
    "from kafka import KafkaConsumer\n",
    "import json\n",
    "import time\n",
    "\n",
    "#topic_name = 'quickstart-events'\n",
    "#topic_name='outputmallstream'\n",
    "topic_name='medical-chatbot-topic'\n",
    "consumer = KafkaConsumer(\n",
    "    topic_name,\n",
    "     bootstrap_servers=['localhost:9092'],\n",
    "     auto_offset_reset='latest',\n",
    "     enable_auto_commit=True,\n",
    "     auto_commit_interval_ms =  5000,\n",
    "     fetch_max_bytes = 128,\n",
    "     max_poll_records = 100,\n",
    "     \n",
    "\n",
    "     #value_deserializer=lambda x: json.loads(x.decode('utf-8')) ##requires it for first producer.\n",
    "     )\n",
    "\n",
    "for message in consumer:\n",
    "    #tweets = json.loads(json.dumps(message.value))\n",
    "    print(message)\n",
    "    #time.sleep(2)"
   ]
  },
  {
   "cell_type": "markdown",
   "metadata": {},
   "source": [
    ".\\bin\\windows\\zookeeper-server-start.bat .\\config\\zookeeper.properties\n",
    ".\\bin\\windows\\kafka-server-start.bat .\\config\\server.properties\n",
    "\n",
    ".\\bin\\windows\\kafka-topics.bat --create --partitions 1 --replication-factor 1 --topic quickstart-events --bootstrap-server localhost:9092"
   ]
  }
 ],
 "metadata": {
  "interpreter": {
   "hash": "2f9bc077dbce6d3d5fe29fa6676858a1bcd9a965b73328f2afbecaceda5ad6e3"
  },
  "kernelspec": {
   "display_name": "Python 3.6.13 64-bit ('nltk_pipeline': conda)",
   "language": "python",
   "name": "python3"
  },
  "language_info": {
   "codemirror_mode": {
    "name": "ipython",
    "version": 3
   },
   "file_extension": ".py",
   "mimetype": "text/x-python",
   "name": "python",
   "nbconvert_exporter": "python",
   "pygments_lexer": "ipython3",
   "version": "3.6.13"
  },
  "orig_nbformat": 4
 },
 "nbformat": 4,
 "nbformat_minor": 2
}
